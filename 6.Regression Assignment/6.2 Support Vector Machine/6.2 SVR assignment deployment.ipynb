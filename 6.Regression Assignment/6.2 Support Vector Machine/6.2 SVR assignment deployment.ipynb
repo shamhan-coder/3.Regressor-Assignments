{
 "cells": [
  {
   "cell_type": "code",
   "execution_count": 1,
   "id": "9c3a4f9e",
   "metadata": {},
   "outputs": [],
   "source": [
    "import pickle"
   ]
  },
  {
   "cell_type": "code",
   "execution_count": 2,
   "id": "12f826bf",
   "metadata": {},
   "outputs": [],
   "source": [
    "\n",
    "loaded_model=pickle.load(open(\"finalized_model_svmr_rscore.sav\",'rb'))\n",
    "\n",
    "result=loaded_model.predict([[50,30,3,1,1]])"
   ]
  },
  {
   "cell_type": "code",
   "execution_count": 3,
   "id": "2f3a28c9",
   "metadata": {},
   "outputs": [
    {
     "data": {
      "text/plain": [
       "array([16589.18908958])"
      ]
     },
     "execution_count": 3,
     "metadata": {},
     "output_type": "execute_result"
    }
   ],
   "source": [
    "result"
   ]
  },
  {
   "cell_type": "code",
   "execution_count": null,
   "id": "65f3e97f",
   "metadata": {},
   "outputs": [],
   "source": []
  },
  {
   "cell_type": "code",
   "execution_count": null,
   "id": "d4ab383f",
   "metadata": {},
   "outputs": [],
   "source": []
  }
 ],
 "metadata": {
  "kernelspec": {
   "display_name": "Python 3 (ipykernel)",
   "language": "python",
   "name": "python3"
  },
  "language_info": {
   "codemirror_mode": {
    "name": "ipython",
    "version": 3
   },
   "file_extension": ".py",
   "mimetype": "text/x-python",
   "name": "python",
   "nbconvert_exporter": "python",
   "pygments_lexer": "ipython3",
   "version": "3.11.5"
  }
 },
 "nbformat": 4,
 "nbformat_minor": 5
}
